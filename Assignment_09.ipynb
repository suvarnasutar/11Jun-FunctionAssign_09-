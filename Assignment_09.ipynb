{
 "cells": [
  {
   "cell_type": "code",
   "execution_count": null,
   "id": "a1ab9b45",
   "metadata": {},
   "outputs": [],
   "source": [
    "###### Que 1 #######\n",
    "1. What is a lambda function in Python, and how does it differ from a regular function?"
   ]
  },
  {
   "cell_type": "code",
   "execution_count": null,
   "id": "b5caa1c6",
   "metadata": {},
   "outputs": [],
   "source": [
    "Lambda Function, often known as an 'Anonymous Function,' is the same as a normal Python function except that it can be defined \n",
    "without a name. The def keyword is used to define normal functions, while the lambda keyword is used to define anonymous \n",
    "functions. They are, however, limited to a single line of expression. They, like regular functions,can accept several parameters\n"
   ]
  },
  {
   "cell_type": "code",
   "execution_count": 10,
   "id": "0ff99b6e",
   "metadata": {},
   "outputs": [
    {
     "name": "stdout",
     "output_type": "stream",
     "text": [
      "NORUENI\n"
     ]
    }
   ],
   "source": [
    "input=\"INeuroN\"\n",
    "\n",
    "# converting the given input string to uppercase and reversing it\n",
    "# with the lambda function\n",
    "reverse_lower = lambda input: input.upper()[::-1]\n",
    "\n",
    "print(reverse_lower(input))"
   ]
  },
  {
   "cell_type": "code",
   "execution_count": 12,
   "id": "ae14e11c",
   "metadata": {},
   "outputs": [
    {
     "name": "stdout",
     "output_type": "stream",
     "text": [
      "5\n"
     ]
    }
   ],
   "source": [
    "def add_def(x, y):    # normal function\n",
    "    return x + y\n",
    "print(add_def(2, 3))"
   ]
  },
  {
   "cell_type": "code",
   "execution_count": null,
   "id": "d13c54a5",
   "metadata": {},
   "outputs": [],
   "source": []
  },
  {
   "cell_type": "code",
   "execution_count": null,
   "id": "e35e74e6",
   "metadata": {},
   "outputs": [],
   "source": [
    "###### Que 2 #######\n",
    "2. Can a lambda function in Python have multiple arguments? If yes, how can you define and use\n",
    "them?"
   ]
  },
  {
   "cell_type": "code",
   "execution_count": null,
   "id": "bd34b6be",
   "metadata": {},
   "outputs": [],
   "source": [
    "The lambda function can take many arguments but can return only one expression. Here the expression is nothing but the result \n",
    "returned by the lambda function. Lambda functions are syntactically restricted to return a single expression. You can use them\n",
    "as an anonymous function inside other functions."
   ]
  },
  {
   "cell_type": "code",
   "execution_count": 2,
   "id": "6380e29e",
   "metadata": {},
   "outputs": [
    {
     "data": {
      "text/plain": [
       "5"
      ]
     },
     "execution_count": 2,
     "metadata": {},
     "output_type": "execute_result"
    }
   ],
   "source": [
    "addition = lambda x,y: x + y\n",
    "addition(2,3)"
   ]
  },
  {
   "cell_type": "code",
   "execution_count": null,
   "id": "badbab92",
   "metadata": {},
   "outputs": [],
   "source": []
  },
  {
   "cell_type": "code",
   "execution_count": null,
   "id": "e2421ae9",
   "metadata": {},
   "outputs": [],
   "source": [
    "###### Que 3 #######\n",
    "3. How are lambda functions typically used in Python? Provide an example use case."
   ]
  },
  {
   "cell_type": "code",
   "execution_count": null,
   "id": "232e77f4",
   "metadata": {},
   "outputs": [],
   "source": [
    "In Python, we generally use Lambda Functions as an argument to a higher-order function (a function that takes in other functions\n",
    "as arguments). For Example, These are used together with built-in functions like filter(), map(), and reduce(), etc."
   ]
  },
  {
   "cell_type": "code",
   "execution_count": 2,
   "id": "d73ccb6d",
   "metadata": {},
   "outputs": [
    {
     "name": "stdout",
     "output_type": "stream",
     "text": [
      "filtered numbers are :  [11, 9, 8, 12]\n"
     ]
    }
   ],
   "source": [
    "numbers=[11,3,9,8,6,5,4,12,1,2]\n",
    "filtered_Ans=filter(lambda x:x>6,numbers)  # use of lambda function in filter()\n",
    "print(\"filtered numbers are : \",list(filtered_Ans))"
   ]
  },
  {
   "cell_type": "code",
   "execution_count": null,
   "id": "572bbe33",
   "metadata": {},
   "outputs": [],
   "source": [
    "in the similar way we can use lambda function in map() and reduce() functions also..examples are as below:"
   ]
  },
  {
   "cell_type": "code",
   "execution_count": 4,
   "id": "ec9f3647",
   "metadata": {},
   "outputs": [
    {
     "name": "stdout",
     "output_type": "stream",
     "text": [
      "[121, 4, 49, 16, 36, 64, 81, 144, 1]\n"
     ]
    }
   ],
   "source": [
    "list1=[11,2,7,4,6,8,9,12,1]\n",
    "square=map(lambda x:x*x,list1)\n",
    "print(list(square))"
   ]
  },
  {
   "cell_type": "code",
   "execution_count": 5,
   "id": "e85b79ad",
   "metadata": {},
   "outputs": [
    {
     "name": "stdout",
     "output_type": "stream",
     "text": [
      "21\n"
     ]
    }
   ],
   "source": [
    "from functools import reduce\n",
    "list2=[1,2,3,4,5,6]\n",
    "sum=reduce( (lambda x,y:x+y),list2)\n",
    "print(sum)"
   ]
  },
  {
   "cell_type": "code",
   "execution_count": null,
   "id": "85eccbc4",
   "metadata": {},
   "outputs": [],
   "source": []
  },
  {
   "cell_type": "code",
   "execution_count": null,
   "id": "48b48941",
   "metadata": {},
   "outputs": [],
   "source": [
    "###### Que 4 #######\n",
    "4. What are the advantages and limitations of lambda functions compared to regular functions in\n",
    "Python?"
   ]
  },
  {
   "cell_type": "code",
   "execution_count": null,
   "id": "3aed5814",
   "metadata": {},
   "outputs": [],
   "source": [
    "advantages and limitations of lambda functions are:\n",
    "Advantages:\n",
    "   * Being anonymous, lambda functions can be easily passed without being assigned to a variable.\n",
    "   * Lambda functions are inline functions and thus execute comparatively faster.\n",
    "   * Many times lambda functions make code much more readable by avoiding the logical jumps caused by function calls.we can see\n",
    "it by following example, \n"
   ]
  },
  {
   "cell_type": "code",
   "execution_count": 6,
   "id": "23e208c4",
   "metadata": {},
   "outputs": [
    {
     "name": "stdout",
     "output_type": "stream",
     "text": [
      "5\n"
     ]
    }
   ],
   "source": [
    "# Python program performing operation using def()\n",
    "def fun(x, y, z):\n",
    "    return x*y+z\n",
    "a = 1\n",
    "b = 2\n",
    "c = 3\n",
    " \n",
    "# logical jump\n",
    "d = fun(a, b, c)\n",
    "print(d)    "
   ]
  },
  {
   "cell_type": "code",
   "execution_count": 7,
   "id": "11a6cb8e",
   "metadata": {},
   "outputs": [
    {
     "name": "stdout",
     "output_type": "stream",
     "text": [
      "5\n"
     ]
    }
   ],
   "source": [
    "# Python program performing operation using lambda\n",
    " \n",
    "d = (lambda x, y, z: x*y+z)(1, 2, 3)\n",
    "print(d)"
   ]
  },
  {
   "cell_type": "code",
   "execution_count": null,
   "id": "78f72d7d",
   "metadata": {},
   "outputs": [],
   "source": [
    "Limitations:\n",
    "   * Lambda functions can have only one expression.\n",
    "   * Lambda functions cannot have a docstring.\n",
    "   * Many times lambda functions make code difficult to read. For example, see the blocks of code given below.For example, \n",
    " "
   ]
  },
  {
   "cell_type": "code",
   "execution_count": 9,
   "id": "cd712336",
   "metadata": {},
   "outputs": [
    {
     "name": "stdout",
     "output_type": "stream",
     "text": [
      "three\n"
     ]
    }
   ],
   "source": [
    "def func(x):   ## easy to understand by regular function\n",
    "    if x == 1:\n",
    "        return \"one\"\n",
    "    elif x == 2:\n",
    "        return \"two\"\n",
    "    elif x == 3:\n",
    "        return \"three\"\n",
    "    else:\n",
    "        return \"ten\"\n",
    "num = func(3)\n",
    "print(num)"
   ]
  },
  {
   "cell_type": "code",
   "execution_count": 38,
   "id": "6d32a709",
   "metadata": {},
   "outputs": [
    {
     "name": "stdout",
     "output_type": "stream",
     "text": [
      "three\n"
     ]
    }
   ],
   "source": [
    "# Python program showing use of lambda function\n",
    "num = (lambda x: \"one\" if x == 1 else( \"two\" if x == 2\n",
    "                       else (\"three\" if x == 3 else \"ten\")))(3)\n",
    "print(num)"
   ]
  },
  {
   "cell_type": "code",
   "execution_count": null,
   "id": "e614ae50",
   "metadata": {},
   "outputs": [],
   "source": []
  },
  {
   "cell_type": "code",
   "execution_count": null,
   "id": "897e97ed",
   "metadata": {},
   "outputs": [],
   "source": [
    "###### Que 5 #######\n",
    "5. Are lambda functions in Python able to access variables defined outside of their own scope?\n",
    "Explain with an example."
   ]
  },
  {
   "cell_type": "code",
   "execution_count": null,
   "id": "37720b70",
   "metadata": {},
   "outputs": [],
   "source": [
    "Lambda functions have their own local namespace and cannot access variables other than those in their parameter list and those\n",
    "in the global namespace.\n"
   ]
  },
  {
   "cell_type": "code",
   "execution_count": null,
   "id": "78221847",
   "metadata": {},
   "outputs": [],
   "source": []
  },
  {
   "cell_type": "code",
   "execution_count": null,
   "id": "c7882b27",
   "metadata": {},
   "outputs": [],
   "source": [
    "###### Que 6 #######\n",
    "6. Write a lambda function to calculate the square of a given number."
   ]
  },
  {
   "cell_type": "code",
   "execution_count": 23,
   "id": "78bf8150",
   "metadata": {},
   "outputs": [
    {
     "name": "stdout",
     "output_type": "stream",
     "text": [
      "49\n"
     ]
    }
   ],
   "source": [
    "square=lambda x:x**2\n",
    "print(square(7))"
   ]
  },
  {
   "cell_type": "code",
   "execution_count": null,
   "id": "3661e2f7",
   "metadata": {},
   "outputs": [],
   "source": []
  },
  {
   "cell_type": "code",
   "execution_count": null,
   "id": "818b60ce",
   "metadata": {},
   "outputs": [],
   "source": [
    "###### Que 7 #######\n",
    "7. Create a lambda function to find the maximum value in a list of integers."
   ]
  },
  {
   "cell_type": "code",
   "execution_count": 31,
   "id": "3909bd0f",
   "metadata": {},
   "outputs": [
    {
     "name": "stdout",
     "output_type": "stream",
     "text": [
      "25\n"
     ]
    }
   ],
   "source": [
    "list=[2,4,6,3,8,11,25]\n",
    "max_value=max(list,key=lambda x:int(x))\n",
    "print(max_value)"
   ]
  },
  {
   "cell_type": "code",
   "execution_count": null,
   "id": "7b77ffc6",
   "metadata": {},
   "outputs": [],
   "source": []
  },
  {
   "cell_type": "code",
   "execution_count": null,
   "id": "f7d568f5",
   "metadata": {},
   "outputs": [],
   "source": [
    "###### Que 8 #######\n",
    "8. Implement a lambda function to filter out all the even numbers from a list of integers."
   ]
  },
  {
   "cell_type": "code",
   "execution_count": 12,
   "id": "5b03e139",
   "metadata": {},
   "outputs": [
    {
     "name": "stdout",
     "output_type": "stream",
     "text": [
      "Even numbers are :  [8, 6, 4, 12, 2]\n"
     ]
    }
   ],
   "source": [
    "numbers=[11,3,9,8,6,5,4,12,1,2]\n",
    "num=list(filter(lambda x : x % 2 == 0 , numbers))\n",
    "print(\"Even numbers are : \",num)"
   ]
  },
  {
   "cell_type": "code",
   "execution_count": null,
   "id": "578c7093",
   "metadata": {},
   "outputs": [],
   "source": []
  },
  {
   "cell_type": "code",
   "execution_count": null,
   "id": "6b39544f",
   "metadata": {},
   "outputs": [],
   "source": [
    "###### Que 9 #######\n",
    "9. Write a lambda function to sort a list of strings in ascending order based on the length of each\n",
    "string."
   ]
  },
  {
   "cell_type": "code",
   "execution_count": 10,
   "id": "9ba82a6f",
   "metadata": {},
   "outputs": [
    {
     "name": "stdout",
     "output_type": "stream",
     "text": [
      "['hp', 'vaio', 'Acer', 'Dell', 'Asus', 'Apple', 'Lenovo', 'Xiaomi']\n"
     ]
    }
   ],
   "source": [
    "string_list = [\"vaio\",\"Apple\",\"hp\",\"Lenovo\",\"Acer\",\"Dell\",\"Asus\",\"Xiaomi\"]\n",
    "#string_list.sort()\n",
    "print(sorted(string_list,key=len))"
   ]
  },
  {
   "cell_type": "code",
   "execution_count": null,
   "id": "bf4bfe34",
   "metadata": {},
   "outputs": [],
   "source": []
  },
  {
   "cell_type": "code",
   "execution_count": null,
   "id": "862771fd",
   "metadata": {},
   "outputs": [],
   "source": [
    "###### Que 10 #######\n",
    "10. Create a lambda function that takes two lists as input and returns a new list containing the\n",
    "common elements between the two lists."
   ]
  },
  {
   "cell_type": "code",
   "execution_count": 9,
   "id": "7d13b469",
   "metadata": {},
   "outputs": [
    {
     "name": "stdout",
     "output_type": "stream",
     "text": [
      "common elements :  [3, 5, 7, 65, 43]\n"
     ]
    }
   ],
   "source": [
    "l1=[1,2,3,4,6,5,7,9,24,65,43,78]\n",
    "l2=[0,13,3,8,5,32,7,64,65,23,43]\n",
    "def common(l1,l2):\n",
    "    result=list(filter(lambda x : x in l1,l2))\n",
    "    print(\"common elements : \",result)\n",
    "common(l1,l2)"
   ]
  },
  {
   "cell_type": "code",
   "execution_count": null,
   "id": "66074c39",
   "metadata": {},
   "outputs": [],
   "source": []
  },
  {
   "cell_type": "code",
   "execution_count": null,
   "id": "d4a827f8",
   "metadata": {},
   "outputs": [],
   "source": [
    "###### Que 11 #######\n",
    "11. Write a recursive function to calculate the factorial of a given positive integer."
   ]
  },
  {
   "cell_type": "code",
   "execution_count": 5,
   "id": "ddffc074",
   "metadata": {},
   "outputs": [
    {
     "name": "stdout",
     "output_type": "stream",
     "text": [
      "The factorial of 5 is : 120\n"
     ]
    }
   ],
   "source": [
    "def factorial(n):\n",
    "    if n < 1  :\n",
    "        return 1\n",
    "    return n*factorial(n-1)\n",
    "n2=5\n",
    "print(\"The factorial of\", n2, \"is :\",factorial(n2))"
   ]
  },
  {
   "cell_type": "code",
   "execution_count": null,
   "id": "1f740204",
   "metadata": {},
   "outputs": [],
   "source": []
  },
  {
   "cell_type": "code",
   "execution_count": null,
   "id": "15c0687d",
   "metadata": {},
   "outputs": [],
   "source": [
    "###### Que 12 #######\n",
    "12. Implement a recursive function to compute the nth Fibonacci number."
   ]
  },
  {
   "cell_type": "code",
   "execution_count": 1,
   "id": "3636bfbd",
   "metadata": {},
   "outputs": [
    {
     "name": "stdout",
     "output_type": "stream",
     "text": [
      "Enter a no. to calculate fibonacci number :  12\n",
      "12 th Element of the Fibonacci Series: 144\n"
     ]
    }
   ],
   "source": [
    "def Fibonacci(n):     \n",
    "    if n <= 1:  \n",
    "         return n    \n",
    "    else:  \n",
    "        return (Fibonacci(n - 1) + Fibonacci(n - 2))\n",
    "n1=12\n",
    "print(\"Enter a no. to calculate fibonacci number : \",n1)      \n",
    "print(n1,\"th Element of the Fibonacci Series:\", Fibonacci(n1))  "
   ]
  },
  {
   "cell_type": "code",
   "execution_count": null,
   "id": "a7b25e2c",
   "metadata": {},
   "outputs": [],
   "source": []
  },
  {
   "cell_type": "code",
   "execution_count": null,
   "id": "e3c6d57f",
   "metadata": {},
   "outputs": [],
   "source": [
    "###### Que 13 #######\n",
    "13. Create a recursive function to find the sum of all the elements in a given list."
   ]
  },
  {
   "cell_type": "code",
   "execution_count": 25,
   "id": "cf38cb6d",
   "metadata": {},
   "outputs": [
    {
     "name": "stdout",
     "output_type": "stream",
     "text": [
      "55\n"
     ]
    }
   ],
   "source": [
    "def findSum(List1): \n",
    "     if len(List1)== 1: \n",
    "        return List1[0] \n",
    "     else: \n",
    "        return List1[0]+findSum(List1[1:]) \n",
    "  \n",
    "List1 =[] \n",
    "# input values to list \n",
    "List1 = [1, 2, 3, 4, 5,6,7,8,9,10] \n",
    "print(findSum(List1))\n",
    "  "
   ]
  },
  {
   "cell_type": "code",
   "execution_count": null,
   "id": "1ced0b1c",
   "metadata": {},
   "outputs": [],
   "source": []
  },
  {
   "cell_type": "code",
   "execution_count": null,
   "id": "ea3a883a",
   "metadata": {},
   "outputs": [],
   "source": [
    "###### Que 14 #######\n",
    "14. Write a recursive function to determine whether a given string is a palindrome."
   ]
  },
  {
   "cell_type": "code",
   "execution_count": 33,
   "id": "b85aa32b",
   "metadata": {},
   "outputs": [
    {
     "name": "stdout",
     "output_type": "stream",
     "text": [
      "Enter the string :mom\n",
      "The string is : mom\n",
      "The given string is a palindrome\n"
     ]
    }
   ],
   "source": [
    "def is_palindrome(S):\n",
    "   if len(S) < 1:\n",
    "      return True\n",
    "   else:\n",
    "      if S[0] == S[-1]:\n",
    "         return is_palindrome(S[1:-1])\n",
    "      else:\n",
    "         return False\n",
    "S = str(input(\"Enter the string :\"))\n",
    "print(\"The string is :\",S)\n",
    "\n",
    "if(is_palindrome(S)==True):\n",
    "   print(\"The given string is a palindrome\")\n",
    "else:\n",
    "   print(\"The given string isn't a palindrome\")"
   ]
  },
  {
   "cell_type": "code",
   "execution_count": null,
   "id": "3cb7e92e",
   "metadata": {},
   "outputs": [],
   "source": []
  },
  {
   "cell_type": "code",
   "execution_count": null,
   "id": "6ac1d643",
   "metadata": {},
   "outputs": [],
   "source": [
    "###### Que 15 #######\n",
    "15. Implement a recursive function to find the greatest common divisor (GCD) of two positive integers."
   ]
  },
  {
   "cell_type": "code",
   "execution_count": 34,
   "id": "3d2a7561",
   "metadata": {},
   "outputs": [
    {
     "name": "stdout",
     "output_type": "stream",
     "text": [
      "Enter the first number :12\n",
      "Enter the second number :15\n",
      "The GCD of two numbers is: 3\n"
     ]
    }
   ],
   "source": [
    "def GCD(x,y):\n",
    "    r=x%y\n",
    "    if(r==0):\n",
    "        return y\n",
    "    else:\n",
    "        return GCD(y,r)\n",
    "n= int(input(\"Enter the first number :\"))\n",
    "m= int(input(\"Enter the second number :\"))\n",
    "print(\"The GCD of two numbers is:\", GCD(n,m))\n"
   ]
  },
  {
   "cell_type": "code",
   "execution_count": null,
   "id": "e6ee0ded",
   "metadata": {},
   "outputs": [],
   "source": []
  },
  {
   "cell_type": "code",
   "execution_count": null,
   "id": "21c8dced",
   "metadata": {},
   "outputs": [],
   "source": []
  }
 ],
 "metadata": {
  "kernelspec": {
   "display_name": "Python 3 (ipykernel)",
   "language": "python",
   "name": "python3"
  },
  "language_info": {
   "codemirror_mode": {
    "name": "ipython",
    "version": 3
   },
   "file_extension": ".py",
   "mimetype": "text/x-python",
   "name": "python",
   "nbconvert_exporter": "python",
   "pygments_lexer": "ipython3",
   "version": "3.11.3"
  }
 },
 "nbformat": 4,
 "nbformat_minor": 5
}
